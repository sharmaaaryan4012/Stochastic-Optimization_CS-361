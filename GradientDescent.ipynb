{
  "nbformat": 4,
  "nbformat_minor": 0,
  "metadata": {
    "kernelspec": {
      "display_name": "Python 3",
      "language": "python",
      "name": "python3"
    },
    "language_info": {
      "codemirror_mode": {
        "name": "ipython",
        "version": 3
      },
      "file_extension": ".py",
      "mimetype": "text/x-python",
      "name": "python",
      "nbconvert_exporter": "python",
      "pygments_lexer": "ipython3",
      "version": "3.7.1-final"
    },
    "colab": {
      "name": "GradientDescent.ipynb",
      "provenance": []
    }
  },
  "cells": [
    {
      "cell_type": "code",
      "metadata": {
        "id": "WPlLJzl9bmS6",
        "colab": {
          "base_uri": "https://localhost:8080/"
        },
        "outputId": "b4640807-1710-4ff3-fd91-4c5a47381ad5"
      },
      "source": [
        "\"\"\"\n",
        "  Name: Aaryan Sharma\n",
        "  Final Project : Stochastic Optimization\n",
        "  CS - 361 (Fall 2024)\n",
        "  Professor: Hongye Liu\n",
        "\"\"\"\n",
        "\n",
        "%matplotlib inline\n",
        "import numpy as np\n",
        "import numpy.linalg as la\n",
        "import matplotlib.pyplot as plt\n",
        "\n",
        "dim_theta = 10\n",
        "data_num = 1000\n",
        "scale = .1\n",
        "\n",
        "theta_true = np.ones((dim_theta,1))\n",
        "print('True theta:', theta_true.reshape(-1))\n",
        "\n",
        "A = np.random.uniform(low=-1.0, high=1.0, size=(data_num,dim_theta))\n",
        "y_data = A @ theta_true + np.random.normal(loc=0.0, scale=scale, size=(data_num, 1))\n",
        "\n",
        "A_test = np.random.uniform(low=-1.0, high=1.0, size=(50, dim_theta))\n",
        "y_test = A_test @ theta_true + np.random.normal(loc=0.0, scale=scale, size=(50, 1))"
      ],
      "execution_count": 1,
      "outputs": [
        {
          "output_type": "stream",
          "name": "stdout",
          "text": [
            "True theta: [1. 1. 1. 1. 1. 1. 1. 1. 1. 1.]\n"
          ]
        }
      ]
    },
    {
      "cell_type": "markdown",
      "metadata": {
        "id": "ZU_XvbFtbmTT"
      },
      "source": [
        "# Solving for the exact mean squared loss (solving Ax = b)"
      ]
    },
    {
      "cell_type": "code",
      "metadata": {
        "id": "BmhrX7mHbmTW",
        "colab": {
          "base_uri": "https://localhost:8080/"
        },
        "outputId": "1a292084-276e-4b21-d8a0-747bdaeda4d1"
      },
      "source": [
        "# print('Not implemented.')\n",
        "\n",
        "'''\n",
        "Hints:\n",
        "1. See the least squares solution to Ax = b (when it is covered in lecture).\n",
        "\n",
        "2. Use Numpy functions like Numpy's linear algebra functions to solve for x in Ax = b.\n",
        "In fact, the linear algebra module is already imported with ```import numpy.linalg as la```.\n",
        "\n",
        "3. Use the defined variable A in Ax = b. Use y_data as b. Use theta_pred as x.\n",
        "'''\n",
        "# theta_pred = NotImplemented # TODO: Implement the analytical solution\n",
        "\n",
        "theta_pred = la.inv(A.T @ A) @ A.T @ y_data\n",
        "\n",
        "print('Empirical theta', theta_pred.reshape(-1))"
      ],
      "execution_count": 2,
      "outputs": [
        {
          "output_type": "stream",
          "name": "stdout",
          "text": [
            "Empirical theta [0.99843172 1.00702107 0.99712007 0.99959883 0.99982462 0.99296016\n",
            " 0.99398104 0.99917759 1.00263724 1.00424918]\n"
          ]
        }
      ]
    },
    {
      "cell_type": "markdown",
      "metadata": {
        "id": "xeV_SKF_bmTj"
      },
      "source": [
        "# SGD Variants Noisy Function"
      ]
    },
    {
      "cell_type": "code",
      "metadata": {
        "id": "SvwmLrlAbmTn"
      },
      "source": [
        "batch_size = 1\n",
        "max_iter = 1000\n",
        "lr = 0.001\n",
        "theta_init = np.random.random((10,1)) * 0.1"
      ],
      "execution_count": 3,
      "outputs": []
    },
    {
      "cell_type": "code",
      "metadata": {
        "id": "1hVSuTZxbmT2"
      },
      "source": [
        "def noisy_val_grad(theta_hat, data_, label_, deg_=2.):\n",
        "    gradient = np.zeros_like(theta_hat)\n",
        "    loss = 0\n",
        "\n",
        "    for i in range(data_.shape[0]):\n",
        "        x_ = data_[i, :].reshape(-1,1)\n",
        "        y_ = label_[i, 0]\n",
        "        err = np.sum(x_ * theta_hat) - y_\n",
        "        theta_hat = theta_init.copy()\n",
        "\n",
        "        # print('Not implemented.')\n",
        "\n",
        "        '''\n",
        "        Hints:\n",
        "        1. Find the gradient and loss for each data point x_.\n",
        "        2. For grad, you need err, deg_, and x_.\n",
        "        3. For l, you need err and deg_ only.\n",
        "        4. Checkout the writeup for more hints.\n",
        "        '''\n",
        "        # grad = NotImplemented # TODO: Implement the analytical gradient\n",
        "        # l = NotImplemented # TODO: Implement the loss function\n",
        "\n",
        "        grad = deg_ * np.sign(err) * np.abs(err)**(deg_ - 1) * x_\n",
        "        l = np.abs(err)**deg_\n",
        "\n",
        "        loss += l / data_.shape[0]\n",
        "        gradient += grad / data_.shape[0]\n",
        "\n",
        "    return loss, gradient"
      ],
      "execution_count": 4,
      "outputs": []
    },
    {
      "cell_type": "markdown",
      "metadata": {
        "id": "B5abUl0ibmUF"
      },
      "source": [
        "# Running SGD Variants"
      ]
    },
    {
      "cell_type": "code",
      "metadata": {
        "id": "xybXkEd7bmUJ",
        "colab": {
          "base_uri": "https://localhost:8080/",
          "height": 836
        },
        "outputId": "3ced7824-c8cc-46f7-c0b7-4f201f17ba96"
      },
      "source": [
        "#@title Parameters\n",
        "deg_ = 5 #@param {type: \"number\"}\n",
        "num_rep = 20 #@param {type: \"integer\"}\n",
        "max_iter = 2000 #@param {type: \"integer\"}\n",
        "fig, ax = plt.subplots(figsize=(10,10))\n",
        "best_vals = {}\n",
        "test_exp_interval = 100 #@param {type: \"integer\"}\n",
        "grad_artificial_normal_noise_scale = 0. #@param {type: \"number\"}"
      ],
      "execution_count": 21,
      "outputs": [
        {
          "output_type": "display_data",
          "data": {
            "text/plain": [
              "<Figure size 1000x1000 with 1 Axes>"
            ],
            "image/png": "[encoded data removed]"
          },
          "metadata": {}
        }
      ]
    },
    {
      "cell_type": "code",
      "metadata": {
        "id": "UM80QBNFbmUV",
        "colab": {
          "base_uri": "https://localhost:8080/",
          "height": 644
        },
        "outputId": "5607295a-3189-443f-e74b-ac824e30429f"
      },
      "source": [
        "for method_idx, method in enumerate(['adam', 'sgd', 'adagrad']):\n",
        "    test_loss_mat = []\n",
        "    train_loss_mat = []\n",
        "\n",
        "    for replicate in range(num_rep):\n",
        "        if replicate % 20 == 0:\n",
        "            print(method, replicate)\n",
        "\n",
        "        if method == 'adam':\n",
        "            # print('Adam Not implemented.')\n",
        "            # beta_1 = 0.9\n",
        "            # beta_2 = 0.999\n",
        "            # m = NotImplemented # TODO: Initialize parameters\n",
        "            # v = NotImplemented\n",
        "            # epsilon = NotImplemented\n",
        "\n",
        "            beta_1 = 0.9\n",
        "            beta_2 = 0.999\n",
        "            m = np.zeros_like(theta_init)\n",
        "            v = np.zeros_like(theta_init)\n",
        "            epsilon = 1e-8\n",
        "\n",
        "        if method == 'adagrad':\n",
        "            # print('Adagrad Not implemented.')\n",
        "            # epsilon = NotImplemented # TODO: Initialize parameters\n",
        "            # squared_sum = NotImplemented\n",
        "\n",
        "            epsilon = 1e-8\n",
        "            squared_sum = np.zeros_like(theta_init)\n",
        "\n",
        "        theta_hat = theta_init.copy()\n",
        "        test_loss_list = []\n",
        "        train_loss_list = []\n",
        "\n",
        "        for t in range(max_iter):\n",
        "            idx = np.random.choice(data_num, batch_size) # Split data\n",
        "            train_loss, gradient = noisy_val_grad(theta_hat, A[idx,:], y_data[idx,:], deg_=deg_)\n",
        "            artificial_grad_noise = np.random.randn(10, 1) * grad_artificial_normal_noise_scale + np.sign(np.random.random((10, 1)) - 0.5) * 0.\n",
        "            gradient = gradient + artificial_grad_noise\n",
        "            train_loss_list.append(train_loss)\n",
        "\n",
        "            if t % test_exp_interval == 0:\n",
        "                test_loss, _ = noisy_val_grad(theta_hat, A_test[:,:], y_test[:,:], deg_=deg_)\n",
        "                test_loss_list.append(test_loss)\n",
        "\n",
        "            if method == 'adam':\n",
        "                # print('Adam Not implemented.') # TODO: Implement Adam\n",
        "                # m = NotImplemented\n",
        "                # v = NotImplemented\n",
        "                # m_hat = NotImplemented\n",
        "                # v_hat = NotImplemented\n",
        "                # theta_hat = theta_hat - lr * NotImplemented\n",
        "\n",
        "                m = beta_1 * m + (1 - beta_1) * gradient\n",
        "                v = beta_2 * v + (1 - beta_2) * gradient ** 2\n",
        "                m_hat = m / (1 - beta_1 ** (t + 1))\n",
        "                v_hat = v / (1 - beta_2 ** (t + 1))\n",
        "                theta_hat -= lr * m_hat / (np.sqrt(v_hat) + epsilon)\n",
        "\n",
        "            elif method == 'adagrad':\n",
        "                # print('Adagrad Not implemented.')\n",
        "                # squared_sum = squared_sum + NotImplemented # TODO: Implement Adagrad\n",
        "                # theta_hat = theta_hat - lr * NotImplemented\n",
        "\n",
        "                squared_sum += gradient ** 2\n",
        "                theta_hat -= lr * gradient / (np.sqrt(squared_sum) + epsilon)\n",
        "\n",
        "            elif method == 'sgd':\n",
        "                theta_hat = theta_hat - lr * gradient\n",
        "\n",
        "        test_loss_mat.append(test_loss_list)\n",
        "        train_loss_mat.append(train_loss_list)\n",
        "\n",
        "    print(method, 'done')\n",
        "    x_axis = np.arange(max_iter)[::test_exp_interval]\n",
        "\n",
        "    print('test_loss_np is a 2d array with num_rep rows and each column denotes a specific update stage in training')\n",
        "    print('The elements of test_loss_np are the test loss values computed in each replicate and training stage.')\n",
        "    test_loss_np = np.array(test_loss_mat)\n",
        "\n",
        "    # print('Not implemented.')\n",
        "    '''\n",
        "    Hints:\n",
        "    1. Use test_loss_np in np.mean() with axis = 0\n",
        "    '''\n",
        "    # test_loss_mean = NotImplemented # TODO: Calculate the mean test loss\n",
        "\n",
        "    test_loss_mean = np.mean(test_loss_np, axis=0)\n",
        "\n",
        "    '''\n",
        "    Hints:\n",
        "    1. Use test_loss_np in np.std() with axis = 0\n",
        "    2. Divide by np.sqrt() using num_rep as a parameter\n",
        "    '''\n",
        "    # test_loss_se = NotImplemented # TODO: Calculate the standard error for test loss\n",
        "\n",
        "    test_loss_se = np.std(test_loss_np, axis=0) / np.sqrt(num_rep)\n",
        "\n",
        "    plt.errorbar(x_axis, test_loss_mean, yerr=2.5*test_loss_se, label=method)\n",
        "    best_vals[method] = min(test_loss_mean)"
      ],
      "execution_count": 22,
      "outputs": [
        {
          "output_type": "stream",
          "name": "stdout",
          "text": [
            "adam 0\n",
            "adam done\n",
            "test_loss_np is a 2d array with num_rep rows and each column denotes a specific update stage in training\n",
            "The elements of test_loss_np are the test loss values computed in each replicate and training stage.\n",
            "sgd 0\n",
            "sgd done\n",
            "test_loss_np is a 2d array with num_rep rows and each column denotes a specific update stage in training\n",
            "The elements of test_loss_np are the test loss values computed in each replicate and training stage.\n",
            "adagrad 0\n",
            "adagrad done\n",
            "test_loss_np is a 2d array with num_rep rows and each column denotes a specific update stage in training\n",
            "The elements of test_loss_np are the test loss values computed in each replicate and training stage.\n"
          ]
        },
        {
          "output_type": "display_data",
          "data": {
            "text/plain": [
              "<Figure size 640x480 with 1 Axes>"
            ],
            "image/png": "[encoded data removed]"
          },
          "metadata": {}
        }
      ]
    },
    {
      "cell_type": "code",
      "metadata": {
        "id": "EGmQD7nDbmUg"
      },
      "source": [
        "best_vals = { k: int(v * 1000) / 1000. for k,v in best_vals.items() } # A weird way to round numbers\n",
        "plt.title(f'Test Loss \\n(objective degree: {deg_},  best values: {best_vals})')\n",
        "plt.ylabel('Test Loss')\n",
        "plt.legend()\n",
        "plt.xlabel('Updates')"
      ],
      "execution_count": null,
      "outputs": []
    }
  ]
}